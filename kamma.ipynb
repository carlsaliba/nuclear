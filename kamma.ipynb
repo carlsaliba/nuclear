{
 "cells": [
  {
   "cell_type": "code",
   "execution_count": 30,
   "id": "1f88c694-7ec0-4d8c-9a22-f2d449ead831",
   "metadata": {},
   "outputs": [],
   "source": [
    "from transformers import Trainer, TrainingArguments\n",
    "import torch\n",
    "from torch import nn\n",
    "from torch.utils.data import Dataset\n",
    "import numpy as np\n",
    "import math\n"
   ]
  },
  {
   "cell_type": "code",
   "execution_count": 31,
   "id": "240f7d0e-8df3-4f95-a90d-1c54f96c7ffc",
   "metadata": {},
   "outputs": [],
   "source": [
    "import numpy as np\n",
    "\n",
    "data1 = np.loadtxt(\"ENDF_B-VIII.1_LI-6(N,T)HE-4.txt\")\n",
    "data2 = np.loadtxt(\"ENDF_B-VIII.1_AU-197(N,G)AU-198.yaml\")\n",
    "\n"
   ]
  },
  {
   "cell_type": "code",
   "execution_count": 32,
   "id": "3d03c0d8-6b8a-4083-afe1-4e8a6c2196d9",
   "metadata": {},
   "outputs": [
    {
     "name": "stdout",
     "output_type": "stream",
     "text": [
      "(395, 2)\n",
      "(20330, 2)\n"
     ]
    }
   ],
   "source": [
    "print(data1.shape)\n",
    "print(data2.shape)"
   ]
  },
  {
   "cell_type": "code",
   "execution_count": 54,
   "id": "864b79e7-9d41-4956-90e8-95aec57ba918",
   "metadata": {},
   "outputs": [],
   "source": [
    "from datasets import Dataset\n",
    "dataset = Dataset.from_dict({\n",
    "    \"input\": data2[:, 0].astype(np.float32).tolist(),\n",
    "    \"labels\": data2[:, 1].astype(np.float32).tolist()\n",
    "})\n",
    "ds_split = dataset.train_test_split(test_size=0.1, seed=42)\n",
    "train_dataset = ds_split[\"train\"]\n",
    "eval_dataset = ds_split[\"test\"]"
   ]
  },
  {
   "cell_type": "code",
   "execution_count": 55,
   "id": "283d8787-2198-4353-bb04-0b85ad9c66ae",
   "metadata": {},
   "outputs": [
    {
     "data": {
      "text/plain": [
       "DatasetDict({\n",
       "    train: Dataset({\n",
       "        features: ['input', 'labels'],\n",
       "        num_rows: 18297\n",
       "    })\n",
       "    test: Dataset({\n",
       "        features: ['input', 'labels'],\n",
       "        num_rows: 2033\n",
       "    })\n",
       "})"
      ]
     },
     "execution_count": 55,
     "metadata": {},
     "output_type": "execute_result"
    }
   ],
   "source": [
    "ds_split"
   ]
  },
  {
   "cell_type": "code",
   "execution_count": 56,
   "id": "0e35b3ea-8303-4825-92ab-77177a598979",
   "metadata": {},
   "outputs": [
    {
     "name": "stdout",
     "output_type": "stream",
     "text": [
      "Using cpu device\n"
     ]
    }
   ],
   "source": [
    "device = torch.accelerator.current_accelerator().type if torch.accelerator.is_available() else \"cpu\"\n",
    "print(f\"Using {device} device\")"
   ]
  },
  {
   "cell_type": "code",
   "execution_count": 57,
   "id": "4c3fde5e-e78b-4ae8-93a5-d4f545ddf530",
   "metadata": {},
   "outputs": [
    {
     "name": "stdout",
     "output_type": "stream",
     "text": [
      "NeuralNetwork(\n",
      "  (linear_relu_stack): Sequential(\n",
      "    (0): Linear(in_features=1, out_features=512, bias=True)\n",
      "    (1): ReLU()\n",
      "    (2): Linear(in_features=512, out_features=512, bias=True)\n",
      "    (3): Tanh()\n",
      "    (4): Linear(in_features=512, out_features=512, bias=True)\n",
      "    (5): Tanh()\n",
      "    (6): Linear(in_features=512, out_features=512, bias=True)\n",
      "    (7): Tanh()\n",
      "    (8): Linear(in_features=512, out_features=512, bias=True)\n",
      "    (9): Tanh()\n",
      "    (10): Linear(in_features=512, out_features=512, bias=True)\n",
      "    (11): Tanh()\n",
      "    (12): Linear(in_features=512, out_features=512, bias=True)\n",
      "    (13): Tanh()\n",
      "    (14): Linear(in_features=512, out_features=512, bias=True)\n",
      "    (15): Tanh()\n",
      "    (16): Linear(in_features=512, out_features=1, bias=False)\n",
      "  )\n",
      "  (loss_fn): MSELoss()\n",
      ")\n"
     ]
    }
   ],
   "source": [
    "class NeuralNetwork(nn.Module):\n",
    "    def __init__(self,input_size=1,output_size=1):\n",
    "        super().__init__()\n",
    "        self.linear_relu_stack = nn.Sequential(\n",
    "            nn.Linear(input_size, 512),\n",
    "            nn.ReLU(),\n",
    "            nn.Linear(512, 512),\n",
    "            nn.Tanh(),nn.Linear(512, 512),\n",
    "            nn.Tanh(),nn.Linear(512, 512),\n",
    "            nn.Tanh(),nn.Linear(512, 512),\n",
    "            nn.Tanh(),nn.Linear(512, 512),\n",
    "            nn.Tanh(),nn.Linear(512, 512),\n",
    "            nn.Tanh(),nn.Linear(512, 512),\n",
    "            nn.Tanh(),\n",
    "            nn.Linear(512, output_size,bias=False),\n",
    "        )\n",
    "        self.loss_fn = nn.MSELoss()\n",
    "\n",
    "    def forward(self, input: torch.Tensor, labels: torch.Tensor = None):\n",
    "        logits = self.linear_relu_stack(input)\n",
    "        if labels is not None:\n",
    "            loss = self.loss_fn(logits, labels)\n",
    "            return {\"loss\": loss, \"logits\": logits}\n",
    "        return {\"logits\": logits}\n",
    "        \n",
    "model = NeuralNetwork().to(device)\n",
    "print(model)"
   ]
  },
  {
   "cell_type": "code",
   "execution_count": 58,
   "id": "13058a5d-bfd6-41d5-8f6e-0872e351e789",
   "metadata": {},
   "outputs": [],
   "source": [
    "def compute_metrics(eval_pred):\n",
    "    preds = eval_pred.predictions\n",
    "    if isinstance(preds, tuple):\n",
    "        preds = preds[0]\n",
    "    preds = np.array(preds).reshape(-1)\n",
    "    labels = eval_pred.label_ids.reshape(-1)\n",
    "\n",
    "    mse  = float(np.mean((preds - labels) ** 2))\n",
    "    rmse = float(math.sqrt(mse))\n",
    "    mae  = float(np.mean(np.abs(preds - labels)))\n",
    "    ss_res = float(np.sum((labels - preds) ** 2))\n",
    "    ss_tot = float(np.sum((labels - np.mean(labels)) ** 2))\n",
    "    r2 = 1.0 - ss_res / ss_tot if ss_tot > 0 else 0.0\n",
    "    return {\"mse\": mse, \"rmse\": rmse, \"mae\": mae, \"r2\": r2}\n",
    "\n",
    "\n",
    "def collate_scalar_to_column(batch):\n",
    "    inputs = torch.tensor([ex[\"input\"] for ex in batch], dtype=torch.float32).unsqueeze(-1)\n",
    "    labels = torch.tensor([ex[\"labels\"] for ex in batch], dtype=torch.float32).unsqueeze(-1)\n",
    "    return {\"input\": inputs, \"labels\": labels}\n"
   ]
  },
  {
   "cell_type": "code",
   "execution_count": 59,
   "id": "dbbb96be-a069-41b3-9df9-252e732d2e76",
   "metadata": {},
   "outputs": [],
   "source": [
    "training_args = TrainingArguments(\n",
    "            output_dir='./results',\n",
    "            learning_rate=1e-4,\n",
    "            per_device_train_batch_size=4,  \n",
    "            per_device_eval_batch_size=4,\n",
    "            max_steps=10000,  # Replace with your desired number of steps\n",
    "            weight_decay=0.02,\n",
    "            eval_strategy='steps', \n",
    "            eval_steps=1000,  #the save step should be a multiple of eval step, savestep=500 by default\n",
    "            lr_scheduler_type=\"cosine\",\n",
    "            warmup_ratio=0.1    \n",
    "\n",
    "        )\n",
    "# ---------------- 7) Trainer ----------------\n",
    "trainer = Trainer(\n",
    "    model=model,\n",
    "    args=training_args,\n",
    "    train_dataset=train_dataset,\n",
    "    eval_dataset=eval_dataset,\n",
    "    compute_metrics=compute_metrics,\n",
    "    data_collator=collate_scalar_to_column\n",
    ")"
   ]
  },
  {
   "cell_type": "code",
   "execution_count": 60,
   "id": "5ac98046-8d10-40ef-b590-03b07461c593",
   "metadata": {
    "scrolled": true
   },
   "outputs": [
    {
     "data": {
      "text/html": [
       "\n",
       "    <div>\n",
       "      \n",
       "      <progress value='10000' max='10000' style='width:300px; height:20px; vertical-align: middle;'></progress>\n",
       "      [10000/10000 04:09, Epoch 2/3]\n",
       "    </div>\n",
       "    <table border=\"1\" class=\"dataframe\">\n",
       "  <thead>\n",
       " <tr style=\"text-align: left;\">\n",
       "      <th>Step</th>\n",
       "      <th>Training Loss</th>\n",
       "      <th>Validation Loss</th>\n",
       "      <th>Mse</th>\n",
       "      <th>Rmse</th>\n",
       "      <th>Mae</th>\n",
       "      <th>R2</th>\n",
       "    </tr>\n",
       "  </thead>\n",
       "  <tbody>\n",
       "    <tr>\n",
       "      <td>1000</td>\n",
       "      <td>366358.272000</td>\n",
       "      <td>197843.578125</td>\n",
       "      <td>197843.578125</td>\n",
       "      <td>444.796108</td>\n",
       "      <td>56.819332</td>\n",
       "      <td>-0.009396</td>\n",
       "    </tr>\n",
       "    <tr>\n",
       "      <td>2000</td>\n",
       "      <td>1502514.560000</td>\n",
       "      <td>197791.796875</td>\n",
       "      <td>197791.765625</td>\n",
       "      <td>444.737862</td>\n",
       "      <td>57.095562</td>\n",
       "      <td>-0.009131</td>\n",
       "    </tr>\n",
       "    <tr>\n",
       "      <td>3000</td>\n",
       "      <td>497659.456000</td>\n",
       "      <td>197753.515625</td>\n",
       "      <td>197753.515625</td>\n",
       "      <td>444.694857</td>\n",
       "      <td>57.271534</td>\n",
       "      <td>-0.008936</td>\n",
       "    </tr>\n",
       "    <tr>\n",
       "      <td>4000</td>\n",
       "      <td>2141834.752000</td>\n",
       "      <td>197703.234375</td>\n",
       "      <td>197703.265625</td>\n",
       "      <td>444.638354</td>\n",
       "      <td>57.390121</td>\n",
       "      <td>-0.008680</td>\n",
       "    </tr>\n",
       "    <tr>\n",
       "      <td>5000</td>\n",
       "      <td>243753.376000</td>\n",
       "      <td>197708.687500</td>\n",
       "      <td>197708.703125</td>\n",
       "      <td>444.644468</td>\n",
       "      <td>57.340412</td>\n",
       "      <td>-0.008708</td>\n",
       "    </tr>\n",
       "    <tr>\n",
       "      <td>6000</td>\n",
       "      <td>838428.864000</td>\n",
       "      <td>197730.750000</td>\n",
       "      <td>197730.750000</td>\n",
       "      <td>444.669259</td>\n",
       "      <td>57.202141</td>\n",
       "      <td>-0.008820</td>\n",
       "    </tr>\n",
       "    <tr>\n",
       "      <td>7000</td>\n",
       "      <td>1657979.648000</td>\n",
       "      <td>197738.359375</td>\n",
       "      <td>197738.375000</td>\n",
       "      <td>444.677833</td>\n",
       "      <td>57.191605</td>\n",
       "      <td>-0.008859</td>\n",
       "    </tr>\n",
       "    <tr>\n",
       "      <td>8000</td>\n",
       "      <td>1115418.880000</td>\n",
       "      <td>197717.625000</td>\n",
       "      <td>197717.656250</td>\n",
       "      <td>444.654536</td>\n",
       "      <td>57.296505</td>\n",
       "      <td>-0.008753</td>\n",
       "    </tr>\n",
       "    <tr>\n",
       "      <td>9000</td>\n",
       "      <td>907720.704000</td>\n",
       "      <td>197725.281250</td>\n",
       "      <td>197725.281250</td>\n",
       "      <td>444.663110</td>\n",
       "      <td>57.251106</td>\n",
       "      <td>-0.008792</td>\n",
       "    </tr>\n",
       "    <tr>\n",
       "      <td>10000</td>\n",
       "      <td>962070.464000</td>\n",
       "      <td>197727.703125</td>\n",
       "      <td>197727.671875</td>\n",
       "      <td>444.665798</td>\n",
       "      <td>57.238884</td>\n",
       "      <td>-0.008804</td>\n",
       "    </tr>\n",
       "  </tbody>\n",
       "</table><p>"
      ],
      "text/plain": [
       "<IPython.core.display.HTML object>"
      ]
     },
     "metadata": {},
     "output_type": "display_data"
    },
    {
     "name": "stderr",
     "output_type": "stream",
     "text": [
      "/home/karl-saliba/anaconda3/envs/nuclear/lib/python3.10/site-packages/torch/utils/data/dataloader.py:668: UserWarning: 'pin_memory' argument is set as true but no accelerator is found, then device pinned memory won't be used.\n",
      "  warnings.warn(warn_msg)\n",
      "/home/karl-saliba/anaconda3/envs/nuclear/lib/python3.10/site-packages/torch/utils/data/dataloader.py:668: UserWarning: 'pin_memory' argument is set as true but no accelerator is found, then device pinned memory won't be used.\n",
      "  warnings.warn(warn_msg)\n",
      "/home/karl-saliba/anaconda3/envs/nuclear/lib/python3.10/site-packages/torch/utils/data/dataloader.py:668: UserWarning: 'pin_memory' argument is set as true but no accelerator is found, then device pinned memory won't be used.\n",
      "  warnings.warn(warn_msg)\n",
      "/home/karl-saliba/anaconda3/envs/nuclear/lib/python3.10/site-packages/torch/utils/data/dataloader.py:668: UserWarning: 'pin_memory' argument is set as true but no accelerator is found, then device pinned memory won't be used.\n",
      "  warnings.warn(warn_msg)\n",
      "/home/karl-saliba/anaconda3/envs/nuclear/lib/python3.10/site-packages/torch/utils/data/dataloader.py:668: UserWarning: 'pin_memory' argument is set as true but no accelerator is found, then device pinned memory won't be used.\n",
      "  warnings.warn(warn_msg)\n",
      "/home/karl-saliba/anaconda3/envs/nuclear/lib/python3.10/site-packages/torch/utils/data/dataloader.py:668: UserWarning: 'pin_memory' argument is set as true but no accelerator is found, then device pinned memory won't be used.\n",
      "  warnings.warn(warn_msg)\n",
      "/home/karl-saliba/anaconda3/envs/nuclear/lib/python3.10/site-packages/torch/utils/data/dataloader.py:668: UserWarning: 'pin_memory' argument is set as true but no accelerator is found, then device pinned memory won't be used.\n",
      "  warnings.warn(warn_msg)\n",
      "/home/karl-saliba/anaconda3/envs/nuclear/lib/python3.10/site-packages/torch/utils/data/dataloader.py:668: UserWarning: 'pin_memory' argument is set as true but no accelerator is found, then device pinned memory won't be used.\n",
      "  warnings.warn(warn_msg)\n",
      "/home/karl-saliba/anaconda3/envs/nuclear/lib/python3.10/site-packages/torch/utils/data/dataloader.py:668: UserWarning: 'pin_memory' argument is set as true but no accelerator is found, then device pinned memory won't be used.\n",
      "  warnings.warn(warn_msg)\n",
      "/home/karl-saliba/anaconda3/envs/nuclear/lib/python3.10/site-packages/torch/utils/data/dataloader.py:668: UserWarning: 'pin_memory' argument is set as true but no accelerator is found, then device pinned memory won't be used.\n",
      "  warnings.warn(warn_msg)\n",
      "/home/karl-saliba/anaconda3/envs/nuclear/lib/python3.10/site-packages/torch/utils/data/dataloader.py:668: UserWarning: 'pin_memory' argument is set as true but no accelerator is found, then device pinned memory won't be used.\n",
      "  warnings.warn(warn_msg)\n"
     ]
    },
    {
     "data": {
      "text/plain": [
       "TrainOutput(global_step=10000, training_loss=858406.0244, metrics={'train_runtime': 249.0441, 'train_samples_per_second': 160.614, 'train_steps_per_second': 40.154, 'total_flos': 0.0, 'train_loss': 858406.0244, 'epoch': 2.185792349726776})"
      ]
     },
     "execution_count": 60,
     "metadata": {},
     "output_type": "execute_result"
    }
   ],
   "source": [
    "trainer.train()"
   ]
  },
  {
   "cell_type": "code",
   "execution_count": null,
   "id": "d579dea5-5914-4762-911d-18c6dfffeae3",
   "metadata": {},
   "outputs": [],
   "source": []
  }
 ],
 "metadata": {
  "kernelspec": {
   "display_name": "Python 3 (ipykernel)",
   "language": "python",
   "name": "python3"
  },
  "language_info": {
   "codemirror_mode": {
    "name": "ipython",
    "version": 3
   },
   "file_extension": ".py",
   "mimetype": "text/x-python",
   "name": "python",
   "nbconvert_exporter": "python",
   "pygments_lexer": "ipython3",
   "version": "3.10.18"
  }
 },
 "nbformat": 4,
 "nbformat_minor": 5
}
