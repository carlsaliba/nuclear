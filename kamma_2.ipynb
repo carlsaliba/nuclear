{
 "cells": [
  {
   "cell_type": "code",
   "execution_count": 20,
   "id": "1f88c694-7ec0-4d8c-9a22-f2d449ead831",
   "metadata": {},
   "outputs": [],
   "source": [
    "from transformers import Trainer, TrainingArguments,EarlyStoppingCallback\n",
    "import torch\n",
    "from torch import nn\n",
    "from torch.utils.data import Dataset\n",
    "import numpy as np\n",
    "import math\n"
   ]
  },
  {
   "cell_type": "code",
   "execution_count": 21,
   "id": "cb0840f7-2dcd-4598-ad84-6ad57952c8fc",
   "metadata": {},
   "outputs": [
    {
     "name": "stdout",
     "output_type": "stream",
     "text": [
      "PyTorch: 2.8.0+cu128\n",
      "CUDA available? True\n",
      "Device count: 1\n",
      "Current device: 0\n",
      "Device name: NVIDIA RTX A5000\n"
     ]
    }
   ],
   "source": [
    "import torch, torchvision, torchaudio\n",
    "print(\"PyTorch:\", torch.__version__)\n",
    "print(\"CUDA available?\", torch.cuda.is_available())\n",
    "print(\"Device count:\", torch.cuda.device_count())\n",
    "print(\"Current device:\", torch.cuda.current_device() if torch.cuda.is_available() else None)\n",
    "print(\"Device name:\", torch.cuda.get_device_name(0) if torch.cuda.is_available() else None)\n"
   ]
  },
  {
   "cell_type": "code",
   "execution_count": 22,
   "id": "7914b02c-48ea-4b20-b3eb-7aeb2b9e954b",
   "metadata": {},
   "outputs": [
    {
     "name": "stdout",
     "output_type": "stream",
     "text": [
      "(20330, 2)\n"
     ]
    }
   ],
   "source": [
    "import numpy as np\n",
    "\n",
    "data = np.loadtxt(\"ENDF_B-VIII.1_AU-197(N,G)AU-198.yaml\")  # (x, y)\n",
    "print(data.shape)"
   ]
  },
  {
   "cell_type": "code",
   "execution_count": 23,
   "id": "3d03c0d8-6b8a-4083-afe1-4e8a6c2196d9",
   "metadata": {},
   "outputs": [],
   "source": [
    "x_raw = data[:, 0].astype(np.float32)\n",
    "y_raw = data[:, 1].astype(np.float32)\n",
    "x_log = np.log10(x_raw)\n",
    "y_log = np.log10(y_raw)"
   ]
  },
  {
   "cell_type": "code",
   "execution_count": 24,
   "id": "94ba2875-64d8-4e28-853b-e533982cab6c",
   "metadata": {},
   "outputs": [],
   "source": [
    "from datasets import Dataset\n",
    "\n",
    "full_ds = Dataset.from_dict({\"x\": x_log.tolist(), \"y\": y_log.tolist()})\n",
    "ds = full_ds.train_test_split(test_size=0.1, seed=42)\n",
    "train_ds, eval_ds = ds[\"train\"], ds[\"test\"]"
   ]
  },
  {
   "cell_type": "code",
   "execution_count": 25,
   "id": "864b79e7-9d41-4956-90e8-95aec57ba918",
   "metadata": {
    "scrolled": true
   },
   "outputs": [
    {
     "data": {
      "application/vnd.jupyter.widget-view+json": {
       "model_id": "d707fea080564768a0d94eb90493a272",
       "version_major": 2,
       "version_minor": 0
      },
      "text/plain": [
       "Map:   0%|          | 0/18297 [00:00<?, ? examples/s]"
      ]
     },
     "metadata": {},
     "output_type": "display_data"
    },
    {
     "data": {
      "application/vnd.jupyter.widget-view+json": {
       "model_id": "3e1fd71f2d70484da234e2dcf8877a5c",
       "version_major": 2,
       "version_minor": 0
      },
      "text/plain": [
       "Map:   0%|          | 0/2033 [00:00<?, ? examples/s]"
      ]
     },
     "metadata": {},
     "output_type": "display_data"
    }
   ],
   "source": [
    "# ---------- 4) Standardize using TRAIN stats ----------\n",
    "x_mean, x_std = float(np.mean(train_ds[\"x\"])), float(np.std(train_ds[\"x\"]))\n",
    "y_mean, y_std = float(np.mean(train_ds[\"y\"])), float(np.std(train_ds[\"y\"]))\n",
    "\n",
    "\n",
    "def standardize(example):\n",
    "    example[\"input\"] = (example[\"x\"] - x_mean) / x_std\n",
    "    example[\"labels\"] = (example[\"y\"] - y_mean) / y_std\n",
    "    del example[\"x\"]\n",
    "    del example[\"y\"]\n",
    "    return example\n",
    "\n",
    "\n",
    "train_ds = train_ds.map(standardize)\n",
    "eval_ds  = eval_ds.map(standardize)\n"
   ]
  },
  {
   "cell_type": "code",
   "execution_count": 26,
   "id": "0e35b3ea-8303-4825-92ab-77177a598979",
   "metadata": {},
   "outputs": [
    {
     "name": "stdout",
     "output_type": "stream",
     "text": [
      "Using cuda device\n"
     ]
    }
   ],
   "source": [
    "device = torch.accelerator.current_accelerator().type if torch.accelerator.is_available() else \"cpu\"\n",
    "print(f\"Using {device} device\")"
   ]
  },
  {
   "cell_type": "code",
   "execution_count": 27,
   "id": "11209712-f687-4f16-9848-cd78f03dc318",
   "metadata": {
    "editable": true,
    "slideshow": {
     "slide_type": ""
    },
    "tags": []
   },
   "outputs": [],
   "source": [
    "class MLP(nn.Module):\n",
    "    def __init__(self, dim=512, activation=nn.Tanh(), p_drop=0.05):\n",
    "        super().__init__()\n",
    "        \n",
    "        self.block = nn.Sequential(\n",
    "            nn.Linear(dim, dim),\n",
    "            activation,\n",
    "            nn.Dropout(p_drop),\n",
    "            nn.Linear(dim, dim),\n",
    "            nn.Dropout(p_drop)\n",
    "        )\n",
    "        self.activation = activation\n",
    "        \n",
    "    def forward(self, x):\n",
    "        return self.activation(x + self.block(x))\n",
    "\n",
    "\n",
    "# In[9]:\n",
    "\n",
    "\n",
    "class kamma_2(nn.Module):\n",
    "    def __init__(self, in_dim=1, dim=128, depth=3, p_drop=0.05,activation=nn.Tanh()):\n",
    "        super().__init__()\n",
    "        \n",
    "        self.inp = nn.Linear(in_dim, dim)\n",
    "        self.blocks = nn.ModuleList([MLP(dim,activation,p_drop) for _ in range(depth)])\n",
    "        self.out = nn.Linear(dim, 1)\n",
    "        self.loss_fn = nn.HuberLoss(delta=1.0)\n",
    "\n",
    "    def forward(self, input: torch.Tensor, labels: torch.Tensor = None):        \n",
    "        h = self.inp(input)\n",
    "        for blk in self.blocks:\n",
    "            h = blk(h)\n",
    "        logits = self.out(h)\n",
    "        if labels is not None:\n",
    "            loss = self.loss_fn(logits, labels)\n",
    "            return {\"loss\": loss, \"logits\": logits}\n",
    "        return {\"logits\": logits}\n",
    "\n",
    "\n",
    "# In[10]:\n",
    "\n"
   ]
  },
  {
   "cell_type": "code",
   "execution_count": 28,
   "id": "db59d8aa-2797-45b2-87bd-215595818c80",
   "metadata": {},
   "outputs": [
    {
     "name": "stdout",
     "output_type": "stream",
     "text": [
      "kamma_2(\n",
      "  (inp): Linear(in_features=1, out_features=128, bias=True)\n",
      "  (blocks): ModuleList(\n",
      "    (0-9): 10 x MLP(\n",
      "      (block): Sequential(\n",
      "        (0): Linear(in_features=128, out_features=128, bias=True)\n",
      "        (1): SiLU()\n",
      "        (2): Dropout(p=0.1, inplace=False)\n",
      "        (3): Linear(in_features=128, out_features=128, bias=True)\n",
      "        (4): Dropout(p=0.1, inplace=False)\n",
      "      )\n",
      "      (activation): SiLU()\n",
      "    )\n",
      "  )\n",
      "  (out): Linear(in_features=128, out_features=1, bias=True)\n",
      "  (loss_fn): HuberLoss()\n",
      ")\n"
     ]
    }
   ],
   "source": [
    "model = kamma_2(in_dim=1, dim=128, depth=10, p_drop=0.1,activation=nn.SiLU()).to(\n",
    "    \"cuda\" if torch.cuda.is_available() else \"cpu\"\n",
    ")\n",
    "print(model)"
   ]
  },
  {
   "cell_type": "code",
   "execution_count": 29,
   "id": "37c80392-3469-46cd-9daa-abd8ae142308",
   "metadata": {},
   "outputs": [
    {
     "name": "stdout",
     "output_type": "stream",
     "text": [
      "inp.weight: cuda:0\n"
     ]
    }
   ],
   "source": [
    "# Check specific parameters\n",
    "for name, param in model.named_parameters():\n",
    "    print(f\"{name}: {param.device}\")\n",
    "    break  # Just check the first one, usually all are on same device"
   ]
  },
  {
   "cell_type": "code",
   "execution_count": 30,
   "id": "b16b0156-2ddf-4dad-889a-beb20e3f8764",
   "metadata": {},
   "outputs": [
    {
     "data": {
      "text/plain": [
       "330625"
      ]
     },
     "execution_count": 30,
     "metadata": {},
     "output_type": "execute_result"
    }
   ],
   "source": [
    "def num_of_param(model):\n",
    "    return sum(p.numel() for p in model.parameters())\n",
    "num_of_param(model)"
   ]
  },
  {
   "cell_type": "code",
   "execution_count": 31,
   "id": "13058a5d-bfd6-41d5-8f6e-0872e351e789",
   "metadata": {},
   "outputs": [],
   "source": [
    "def compute_metrics(eval_pred):\n",
    "    preds = eval_pred.predictions\n",
    "    if isinstance(preds, tuple):\n",
    "        preds = preds[0]\n",
    "    preds = np.array(preds).reshape(-1)\n",
    "    labels = eval_pred.label_ids.reshape(-1)\n",
    "\n",
    "    mse  = float(np.mean((preds - labels) ** 2))\n",
    "    rmse = float(math.sqrt(mse))\n",
    "    mae  = float(np.mean(np.abs(preds - labels)))\n",
    "    ss_res = float(np.sum((labels - preds) ** 2))\n",
    "    \n",
    "    ss_tot = float(np.sum((labels - np.mean(labels)) ** 2))\n",
    "    r2 = 1.0 - ss_res / ss_tot if ss_tot > 0 else 0.0\n",
    "    return {\"mse\": mse, \"rmse\": rmse, \"mae\": mae, \"r2\": r2}\n",
    "\n",
    "\n",
    "def collate_scalar_to_column(batch):\n",
    "    inputs = torch.tensor([ex[\"input\"] for ex in batch], dtype=torch.float32).unsqueeze(-1)\n",
    "    labels = torch.tensor([ex[\"labels\"] for ex in batch], dtype=torch.float32).unsqueeze(-1)\n",
    "    return {\"input\": inputs, \"labels\": labels}\n"
   ]
  },
  {
   "cell_type": "code",
   "execution_count": 54,
   "id": "dbbb96be-a069-41b3-9df9-252e732d2e76",
   "metadata": {},
   "outputs": [],
   "source": [
    "training_args = TrainingArguments(\n",
    "            output_dir='./results',\n",
    "            learning_rate=1e-4,\n",
    "            per_device_train_batch_size=512,  \n",
    "            per_device_eval_batch_size=512,\n",
    "            max_steps=50000,  # Replace with your desired number of steps\n",
    "            weight_decay=0.02,\n",
    "            eval_strategy='steps', \n",
    "            eval_steps=2500,  #the save step should be a multiple of eval step, savestep=500 by default\n",
    "            lr_scheduler_type=\"cosine\",\n",
    "            warmup_ratio=0.1,\n",
    "            # metric_for_best_model=\"mse\",\n",
    "        )\n",
    "# ---------------- 7) Trainer ----------------\n",
    "trainer = Trainer(\n",
    "    model=model,\n",
    "    args=training_args,\n",
    "    train_dataset=combined_dataset,\n",
    "    eval_dataset=eval_ds,\n",
    "    compute_metrics=compute_metrics,\n",
    "    data_collator=collate_scalar_to_column,\n",
    ")"
   ]
  },
  {
   "cell_type": "code",
   "execution_count": 55,
   "id": "a6e55b93-0004-48c6-9b20-2472c14b4b89",
   "metadata": {},
   "outputs": [
    {
     "name": "stdout",
     "output_type": "stream",
     "text": [
      "Trainer device: cuda:0\n"
     ]
    }
   ],
   "source": [
    "print(f\"Trainer device: {trainer.args.device}\")"
   ]
  },
  {
   "cell_type": "code",
   "execution_count": 56,
   "id": "5ac98046-8d10-40ef-b590-03b07461c593",
   "metadata": {
    "editable": true,
    "scrolled": true,
    "slideshow": {
     "slide_type": ""
    },
    "tags": []
   },
   "outputs": [
    {
     "data": {
      "text/html": [
       "\n",
       "    <div>\n",
       "      \n",
       "      <progress value='50000' max='50000' style='width:300px; height:20px; vertical-align: middle;'></progress>\n",
       "      [50000/50000 21:12, Epoch 1250/1250]\n",
       "    </div>\n",
       "    <table border=\"1\" class=\"dataframe\">\n",
       "  <thead>\n",
       " <tr style=\"text-align: left;\">\n",
       "      <th>Step</th>\n",
       "      <th>Training Loss</th>\n",
       "      <th>Validation Loss</th>\n",
       "      <th>Mse</th>\n",
       "      <th>Rmse</th>\n",
       "      <th>Mae</th>\n",
       "      <th>R2</th>\n",
       "    </tr>\n",
       "  </thead>\n",
       "  <tbody>\n",
       "    <tr>\n",
       "      <td>2500</td>\n",
       "      <td>0.292200</td>\n",
       "      <td>0.272486</td>\n",
       "      <td>0.569390</td>\n",
       "      <td>0.754579</td>\n",
       "      <td>0.618968</td>\n",
       "      <td>0.420129</td>\n",
       "    </tr>\n",
       "    <tr>\n",
       "      <td>5000</td>\n",
       "      <td>0.293800</td>\n",
       "      <td>0.288444</td>\n",
       "      <td>0.607679</td>\n",
       "      <td>0.779537</td>\n",
       "      <td>0.639035</td>\n",
       "      <td>0.381136</td>\n",
       "    </tr>\n",
       "    <tr>\n",
       "      <td>7500</td>\n",
       "      <td>0.293300</td>\n",
       "      <td>0.277558</td>\n",
       "      <td>0.580760</td>\n",
       "      <td>0.762076</td>\n",
       "      <td>0.627068</td>\n",
       "      <td>0.408550</td>\n",
       "    </tr>\n",
       "    <tr>\n",
       "      <td>10000</td>\n",
       "      <td>0.293100</td>\n",
       "      <td>0.283753</td>\n",
       "      <td>0.596061</td>\n",
       "      <td>0.772050</td>\n",
       "      <td>0.631592</td>\n",
       "      <td>0.392967</td>\n",
       "    </tr>\n",
       "    <tr>\n",
       "      <td>12500</td>\n",
       "      <td>0.292100</td>\n",
       "      <td>0.275315</td>\n",
       "      <td>0.575858</td>\n",
       "      <td>0.758853</td>\n",
       "      <td>0.621546</td>\n",
       "      <td>0.413542</td>\n",
       "    </tr>\n",
       "    <tr>\n",
       "      <td>15000</td>\n",
       "      <td>0.291300</td>\n",
       "      <td>0.272207</td>\n",
       "      <td>0.570059</td>\n",
       "      <td>0.755023</td>\n",
       "      <td>0.617617</td>\n",
       "      <td>0.419448</td>\n",
       "    </tr>\n",
       "    <tr>\n",
       "      <td>17500</td>\n",
       "      <td>0.290600</td>\n",
       "      <td>0.275706</td>\n",
       "      <td>0.576082</td>\n",
       "      <td>0.759000</td>\n",
       "      <td>0.622865</td>\n",
       "      <td>0.413314</td>\n",
       "    </tr>\n",
       "    <tr>\n",
       "      <td>20000</td>\n",
       "      <td>0.289900</td>\n",
       "      <td>0.272123</td>\n",
       "      <td>0.568400</td>\n",
       "      <td>0.753923</td>\n",
       "      <td>0.618364</td>\n",
       "      <td>0.421137</td>\n",
       "    </tr>\n",
       "    <tr>\n",
       "      <td>22500</td>\n",
       "      <td>0.289500</td>\n",
       "      <td>0.269487</td>\n",
       "      <td>0.562100</td>\n",
       "      <td>0.749733</td>\n",
       "      <td>0.615787</td>\n",
       "      <td>0.427553</td>\n",
       "    </tr>\n",
       "    <tr>\n",
       "      <td>25000</td>\n",
       "      <td>0.288600</td>\n",
       "      <td>0.269558</td>\n",
       "      <td>0.562890</td>\n",
       "      <td>0.750260</td>\n",
       "      <td>0.615818</td>\n",
       "      <td>0.426749</td>\n",
       "    </tr>\n",
       "    <tr>\n",
       "      <td>27500</td>\n",
       "      <td>0.287900</td>\n",
       "      <td>0.272735</td>\n",
       "      <td>0.570215</td>\n",
       "      <td>0.755126</td>\n",
       "      <td>0.618701</td>\n",
       "      <td>0.419289</td>\n",
       "    </tr>\n",
       "    <tr>\n",
       "      <td>30000</td>\n",
       "      <td>0.286800</td>\n",
       "      <td>0.268679</td>\n",
       "      <td>0.560638</td>\n",
       "      <td>0.748758</td>\n",
       "      <td>0.614172</td>\n",
       "      <td>0.429042</td>\n",
       "    </tr>\n",
       "    <tr>\n",
       "      <td>32500</td>\n",
       "      <td>0.285700</td>\n",
       "      <td>0.270533</td>\n",
       "      <td>0.565805</td>\n",
       "      <td>0.752200</td>\n",
       "      <td>0.616449</td>\n",
       "      <td>0.423780</td>\n",
       "    </tr>\n",
       "    <tr>\n",
       "      <td>35000</td>\n",
       "      <td>0.285400</td>\n",
       "      <td>0.269717</td>\n",
       "      <td>0.563312</td>\n",
       "      <td>0.750541</td>\n",
       "      <td>0.615165</td>\n",
       "      <td>0.426319</td>\n",
       "    </tr>\n",
       "    <tr>\n",
       "      <td>37500</td>\n",
       "      <td>0.284600</td>\n",
       "      <td>0.270352</td>\n",
       "      <td>0.564569</td>\n",
       "      <td>0.751378</td>\n",
       "      <td>0.616859</td>\n",
       "      <td>0.425039</td>\n",
       "    </tr>\n",
       "    <tr>\n",
       "      <td>40000</td>\n",
       "      <td>0.284500</td>\n",
       "      <td>0.268531</td>\n",
       "      <td>0.560655</td>\n",
       "      <td>0.748769</td>\n",
       "      <td>0.614277</td>\n",
       "      <td>0.429025</td>\n",
       "    </tr>\n",
       "    <tr>\n",
       "      <td>42500</td>\n",
       "      <td>0.284000</td>\n",
       "      <td>0.269321</td>\n",
       "      <td>0.562431</td>\n",
       "      <td>0.749954</td>\n",
       "      <td>0.615271</td>\n",
       "      <td>0.427217</td>\n",
       "    </tr>\n",
       "    <tr>\n",
       "      <td>45000</td>\n",
       "      <td>0.283800</td>\n",
       "      <td>0.268173</td>\n",
       "      <td>0.559763</td>\n",
       "      <td>0.748173</td>\n",
       "      <td>0.613634</td>\n",
       "      <td>0.429933</td>\n",
       "    </tr>\n",
       "    <tr>\n",
       "      <td>47500</td>\n",
       "      <td>0.283600</td>\n",
       "      <td>0.268803</td>\n",
       "      <td>0.561354</td>\n",
       "      <td>0.749235</td>\n",
       "      <td>0.614216</td>\n",
       "      <td>0.428313</td>\n",
       "    </tr>\n",
       "    <tr>\n",
       "      <td>50000</td>\n",
       "      <td>0.283300</td>\n",
       "      <td>0.269043</td>\n",
       "      <td>0.561936</td>\n",
       "      <td>0.749624</td>\n",
       "      <td>0.614582</td>\n",
       "      <td>0.427720</td>\n",
       "    </tr>\n",
       "  </tbody>\n",
       "</table><p>"
      ],
      "text/plain": [
       "<IPython.core.display.HTML object>"
      ]
     },
     "metadata": {},
     "output_type": "display_data"
    },
    {
     "data": {
      "text/plain": [
       "TrainOutput(global_step=50000, training_loss=0.2883101901245117, metrics={'train_runtime': 1272.5842, 'train_samples_per_second': 20116.547, 'train_steps_per_second': 39.29, 'total_flos': 0.0, 'train_loss': 0.2883101901245117, 'epoch': 1250.0})"
      ]
     },
     "execution_count": 56,
     "metadata": {},
     "output_type": "execute_result"
    }
   ],
   "source": [
    "trainer.train()"
   ]
  },
  {
   "cell_type": "code",
   "execution_count": 57,
   "id": "ca8d226d-8039-444a-a1ee-d8d21f199aec",
   "metadata": {},
   "outputs": [
    {
     "data": {
      "text/html": [],
      "text/plain": [
       "<IPython.core.display.HTML object>"
      ]
     },
     "metadata": {},
     "output_type": "display_data"
    }
   ],
   "source": [
    "pred_train = trainer.predict(train_ds)\n",
    "out_pred=pred_train.predictions"
   ]
  },
  {
   "cell_type": "code",
   "execution_count": 59,
   "id": "88df76da-81f6-4a80-9ae3-d6163f1403f0",
   "metadata": {},
   "outputs": [
    {
     "data": {
      "image/png": "[encoded data removed]",
      "text/plain": [
       "<Figure size 1000x600 with 1 Axes>"
      ]
     },
     "metadata": {},
     "output_type": "display_data"
    }
   ],
   "source": [
    "import matplotlib.pyplot as plt\n",
    "import numpy as np\n",
    "\n",
    "# Assuming\n",
    "x=np.array(train_ds[\"input\"])\n",
    "y = out_pred# All rows, column 1\n",
    "\n",
    "# Log-log plot\n",
    "plt.figure(figsize=(10, 6))\n",
    "plt.plot(x, y, 'o', alpha=0.7, markersize=1)\n",
    "plt.xlabel('X (log scale)')\n",
    "plt.ylabel('Y (log scale)')\n",
    "plt.title('Log-Log Plot')\n",
    "plt.grid(True, alpha=0.3)\n",
    "\n",
    "# Save the figure before showing it\n",
    "plt.savefig('log_log_plot.png', dpi=300, bbox_inches='tight')\n",
    "\n",
    "# Display the plot\n",
    "plt.show()"
   ]
  },
  {
   "cell_type": "code",
   "execution_count": 60,
   "id": "84bb6983-4235-4cbf-9ab7-745528e01dcc",
   "metadata": {},
   "outputs": [],
   "source": [
    "torch.save(model.state_dict(), 'model.pth')"
   ]
  },
  {
   "cell_type": "code",
   "execution_count": 61,
   "id": "ee62fdc7-420b-4758-9d38-a41495e8a83a",
   "metadata": {},
   "outputs": [],
   "source": [
    "torch.save(model, 'entire_model.pth')"
   ]
  },
  {
   "cell_type": "code",
   "execution_count": 53,
   "id": "5c4355cb-648f-4127-8122-4ac6ffae32bc",
   "metadata": {},
   "outputs": [
    {
     "name": "stdout",
     "output_type": "stream",
     "text": [
      "Dataset({\n",
      "    features: ['input', 'labels'],\n",
      "    num_rows: 20330\n",
      "})\n"
     ]
    }
   ],
   "source": [
    "from datasets import concatenate_datasets\n",
    "\n",
    "# Suppose your datasets are named `dataset1` and `dataset2`\n",
    "# (each like: Dataset({ features: ['input', 'labels'], num_rows: ... }))\n",
    "\n",
    "combined_dataset = concatenate_datasets([train_ds, eval_ds])\n",
    "\n",
    "print(combined_dataset)\n"
   ]
  },
  {
   "cell_type": "code",
   "execution_count": 49,
   "id": "1bccc922-8f05-41e9-bc61-48e1df04bced",
   "metadata": {},
   "outputs": [
    {
     "data": {
      "text/plain": [
       "Dataset({\n",
       "    features: ['input', 'labels'],\n",
       "    num_rows: 2033\n",
       "})"
      ]
     },
     "execution_count": 49,
     "metadata": {},
     "output_type": "execute_result"
    }
   ],
   "source": [
    "eval_ds"
   ]
  },
  {
   "cell_type": "code",
   "execution_count": null,
   "id": "5024ea24-ce17-45de-b1fb-b0e89ab7daed",
   "metadata": {},
   "outputs": [],
   "source": []
  }
 ],
 "metadata": {
  "kernelspec": {
   "display_name": "Python 3 (ipykernel)",
   "language": "python",
   "name": "python3"
  },
  "language_info": {
   "codemirror_mode": {
    "name": "ipython",
    "version": 3
   },
   "file_extension": ".py",
   "mimetype": "text/x-python",
   "name": "python",
   "nbconvert_exporter": "python",
   "pygments_lexer": "ipython3",
   "version": "3.12.3"
  }
 },
 "nbformat": 4,
 "nbformat_minor": 5
}
