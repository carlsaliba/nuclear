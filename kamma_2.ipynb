{
 "cells": [
  {
   "cell_type": "code",
   "execution_count": 1,
   "id": "1f88c694-7ec0-4d8c-9a22-f2d449ead831",
   "metadata": {},
   "outputs": [
    {
     "name": "stderr",
     "output_type": "stream",
     "text": [
      "/home/karl-saliba/anaconda3/envs/nuclear/lib/python3.10/site-packages/tqdm/auto.py:21: TqdmWarning: IProgress not found. Please update jupyter and ipywidgets. See https://ipywidgets.readthedocs.io/en/stable/user_install.html\n",
      "  from .autonotebook import tqdm as notebook_tqdm\n"
     ]
    }
   ],
   "source": [
    "from transformers import Trainer, TrainingArguments\n",
    "import torch\n",
    "from torch import nn\n",
    "from torch.utils.data import Dataset\n",
    "import numpy as np\n",
    "import math\n"
   ]
  },
  {
   "cell_type": "code",
   "execution_count": 2,
   "id": "7914b02c-48ea-4b20-b3eb-7aeb2b9e954b",
   "metadata": {},
   "outputs": [
    {
     "name": "stdout",
     "output_type": "stream",
     "text": [
      "(20330, 2)\n"
     ]
    }
   ],
   "source": [
    "import numpy as np\n",
    "\n",
    "data = np.loadtxt(\"ENDF_B-VIII.1_AU-197(N,G)AU-198.yaml\")  # (x, y)\n",
    "print(data.shape)"
   ]
  },
  {
   "cell_type": "code",
   "execution_count": 3,
   "id": "3d03c0d8-6b8a-4083-afe1-4e8a6c2196d9",
   "metadata": {},
   "outputs": [],
   "source": [
    "x_raw = data[:, 0].astype(np.float32)\n",
    "y_raw = data[:, 1].astype(np.float32)\n",
    "x_log = np.log10(x_raw)\n",
    "y_log = np.log10(y_raw)"
   ]
  },
  {
   "cell_type": "code",
   "execution_count": 4,
   "id": "94ba2875-64d8-4e28-853b-e533982cab6c",
   "metadata": {},
   "outputs": [],
   "source": [
    "from datasets import Dataset\n",
    "\n",
    "full_ds = Dataset.from_dict({\"x\": x_log.tolist(), \"y\": y_log.tolist()})\n",
    "ds = full_ds.train_test_split(test_size=0.1, seed=42)\n",
    "train_ds, eval_ds = ds[\"train\"], ds[\"test\"]"
   ]
  },
  {
   "cell_type": "code",
   "execution_count": 5,
   "id": "864b79e7-9d41-4956-90e8-95aec57ba918",
   "metadata": {
    "scrolled": true
   },
   "outputs": [
    {
     "name": "stderr",
     "output_type": "stream",
     "text": [
      "Map: 100%|██████████████████████████████████████████████████| 18297/18297 [00:02<00:00, 7244.27 examples/s]\n",
      "Map: 100%|████████████████████████████████████████████████████| 2033/2033 [00:00<00:00, 5608.79 examples/s]\n"
     ]
    }
   ],
   "source": [
    "# ---------- 4) Standardize using TRAIN stats ----------\n",
    "x_mean, x_std = float(np.mean(train_ds[\"x\"])), float(np.std(train_ds[\"x\"]))\n",
    "y_mean, y_std = float(np.mean(train_ds[\"y\"])), float(np.std(train_ds[\"y\"]))\n",
    "\n",
    "\n",
    "def standardize(example):\n",
    "    example[\"input\"] = (example[\"x\"] - x_mean) / x_std\n",
    "    example[\"labels\"] = (example[\"y\"] - y_mean) / y_std\n",
    "    del example[\"x\"]\n",
    "    del example[\"y\"]\n",
    "    return example\n",
    "\n",
    "\n",
    "train_ds = train_ds.map(standardize)\n",
    "eval_ds  = eval_ds.map(standardize)\n"
   ]
  },
  {
   "cell_type": "code",
   "execution_count": 6,
   "id": "4c9474aa-cb5a-4b8e-840c-3be322f98c7b",
   "metadata": {},
   "outputs": [],
   "source": [
    "# import numpy as np\n",
    "# import matplotlib.pyplot as plt\n",
    "\n",
    "# x = np.random.lognormal(mean=1.0, sigma=0.5, size=1000)  # Skewed distribution\n",
    "# x_std = (x - np.mean(x)) / np.std(x)\n",
    "\n",
    "# plt.figure(figsize=(10,4))\n",
    "# plt.subplot(1,2,1)\n",
    "# plt.hist(x, bins=50, alpha=0.7)\n",
    "# plt.title(\"Original Distribution\")\n",
    "\n",
    "# plt.subplot(1,2,2)\n",
    "# plt.hist(x_std, bins=50, alpha=0.7)\n",
    "# plt.title(\"Standardized Distribution\")\n",
    "\n",
    "# plt.show()\n"
   ]
  },
  {
   "cell_type": "code",
   "execution_count": 7,
   "id": "0e35b3ea-8303-4825-92ab-77177a598979",
   "metadata": {},
   "outputs": [
    {
     "name": "stdout",
     "output_type": "stream",
     "text": [
      "Using cpu device\n"
     ]
    }
   ],
   "source": [
    "device = torch.accelerator.current_accelerator().type if torch.accelerator.is_available() else \"cpu\"\n",
    "print(f\"Using {device} device\")"
   ]
  },
  {
   "cell_type": "code",
   "execution_count": 8,
   "id": "4c3fde5e-e78b-4ae8-93a5-d4f545ddf530",
   "metadata": {},
   "outputs": [
    {
     "name": "stdout",
     "output_type": "stream",
     "text": [
      "NeuralNetwork(\n",
      "  (linear_relu_stack): Sequential(\n",
      "    (0): Linear(in_features=1, out_features=512, bias=True)\n",
      "    (1): ReLU()\n",
      "    (2): Linear(in_features=512, out_features=512, bias=True)\n",
      "    (3): Tanh()\n",
      "    (4): Linear(in_features=512, out_features=512, bias=True)\n",
      "    (5): Tanh()\n",
      "    (6): Linear(in_features=512, out_features=512, bias=True)\n",
      "    (7): Tanh()\n",
      "    (8): Linear(in_features=512, out_features=512, bias=True)\n",
      "    (9): Tanh()\n",
      "    (10): Linear(in_features=512, out_features=512, bias=True)\n",
      "    (11): Tanh()\n",
      "    (12): Linear(in_features=512, out_features=512, bias=True)\n",
      "    (13): Tanh()\n",
      "    (14): Linear(in_features=512, out_features=512, bias=True)\n",
      "    (15): Tanh()\n",
      "    (16): Linear(in_features=512, out_features=1, bias=False)\n",
      "  )\n",
      "  (loss_fn): MSELoss()\n",
      ")\n"
     ]
    }
   ],
   "source": [
    "class NeuralNetwork(nn.Module):\n",
    "    def __init__(self,input_size=1,output_size=1):\n",
    "        super().__init__()\n",
    "        self.linear_relu_stack = nn.Sequential(\n",
    "            nn.Linear(input_size, 512),\n",
    "            nn.ReLU(),\n",
    "            nn.Linear(512, 512),\n",
    "            nn.Tanh(),nn.Linear(512, 512),\n",
    "            nn.Tanh(),nn.Linear(512, 512),\n",
    "            nn.Tanh(),nn.Linear(512, 512),\n",
    "            nn.Tanh(),nn.Linear(512, 512),\n",
    "            nn.Tanh(),nn.Linear(512, 512),\n",
    "            nn.Tanh(),nn.Linear(512, 512),\n",
    "            nn.Tanh(),\n",
    "            nn.Linear(512, output_size,bias=False),\n",
    "        )\n",
    "        self.loss_fn = nn.MSELoss()\n",
    "\n",
    "    def forward(self, input: torch.Tensor, labels: torch.Tensor = None):\n",
    "        logits = self.linear_relu_stack(input)\n",
    "        if labels is not None:\n",
    "            loss = self.loss_fn(logits, labels)\n",
    "            return {\"loss\": loss, \"logits\": logits}\n",
    "        return {\"logits\": logits}\n",
    "        \n",
    "model = NeuralNetwork().to(device)\n",
    "print(model)"
   ]
  },
  {
   "cell_type": "code",
   "execution_count": 9,
   "id": "13058a5d-bfd6-41d5-8f6e-0872e351e789",
   "metadata": {},
   "outputs": [],
   "source": [
    "def compute_metrics(eval_pred):\n",
    "    preds = eval_pred.predictions\n",
    "    if isinstance(preds, tuple):\n",
    "        preds = preds[0]\n",
    "    preds = np.array(preds).reshape(-1)\n",
    "    labels = eval_pred.label_ids.reshape(-1)\n",
    "\n",
    "    mse  = float(np.mean((preds - labels) ** 2))\n",
    "    rmse = float(math.sqrt(mse))\n",
    "    mae  = float(np.mean(np.abs(preds - labels)))\n",
    "    ss_res = float(np.sum((labels - preds) ** 2))\n",
    "    \n",
    "    ss_tot = float(np.sum((labels - np.mean(labels)) ** 2))\n",
    "    r2 = 1.0 - ss_res / ss_tot if ss_tot > 0 else 0.0\n",
    "    return {\"mse\": mse, \"rmse\": rmse, \"mae\": mae, \"r2\": r2}\n",
    "\n",
    "\n",
    "def collate_scalar_to_column(batch):\n",
    "    inputs = torch.tensor([ex[\"input\"] for ex in batch], dtype=torch.float32).unsqueeze(-1)\n",
    "    labels = torch.tensor([ex[\"labels\"] for ex in batch], dtype=torch.float32).unsqueeze(-1)\n",
    "    return {\"input\": inputs, \"labels\": labels}\n"
   ]
  },
  {
   "cell_type": "code",
   "execution_count": 10,
   "id": "dbbb96be-a069-41b3-9df9-252e732d2e76",
   "metadata": {},
   "outputs": [],
   "source": [
    "training_args = TrainingArguments(\n",
    "            output_dir='./results',\n",
    "            learning_rate=1e-4,\n",
    "            per_device_train_batch_size=4,  \n",
    "            per_device_eval_batch_size=4,\n",
    "            max_steps=10000,  # Replace with your desired number of steps\n",
    "            weight_decay=0.02,\n",
    "            eval_strategy='steps', \n",
    "            eval_steps=1000,  #the save step should be a multiple of eval step, savestep=500 by default\n",
    "            lr_scheduler_type=\"cosine\",\n",
    "            warmup_ratio=0.1    \n",
    "\n",
    "        )\n",
    "# ---------------- 7) Trainer ----------------\n",
    "trainer = Trainer(\n",
    "    model=model,\n",
    "    args=training_args,\n",
    "    train_dataset=train_ds,\n",
    "    eval_dataset=eval_ds,\n",
    "    compute_metrics=compute_metrics,\n",
    "    data_collator=collate_scalar_to_column\n",
    ")"
   ]
  },
  {
   "cell_type": "code",
   "execution_count": 11,
   "id": "5ac98046-8d10-40ef-b590-03b07461c593",
   "metadata": {
    "scrolled": true
   },
   "outputs": [
    {
     "name": "stderr",
     "output_type": "stream",
     "text": [
      "/home/karl-saliba/anaconda3/envs/nuclear/lib/python3.10/site-packages/torch/utils/data/dataloader.py:668: UserWarning: 'pin_memory' argument is set as true but no accelerator is found, then device pinned memory won't be used.\n",
      "  warnings.warn(warn_msg)\n"
     ]
    },
    {
     "data": {
      "text/html": [
       "\n",
       "    <div>\n",
       "      \n",
       "      <progress value='10000' max='10000' style='width:300px; height:20px; vertical-align: middle;'></progress>\n",
       "      [10000/10000 03:29, Epoch 2/3]\n",
       "    </div>\n",
       "    <table border=\"1\" class=\"dataframe\">\n",
       "  <thead>\n",
       " <tr style=\"text-align: left;\">\n",
       "      <th>Step</th>\n",
       "      <th>Training Loss</th>\n",
       "      <th>Validation Loss</th>\n",
       "      <th>Mse</th>\n",
       "      <th>Rmse</th>\n",
       "      <th>Mae</th>\n",
       "      <th>R2</th>\n",
       "    </tr>\n",
       "  </thead>\n",
       "  <tbody>\n",
       "    <tr>\n",
       "      <td>1000</td>\n",
       "      <td>0.830500</td>\n",
       "      <td>0.739495</td>\n",
       "      <td>0.739495</td>\n",
       "      <td>0.859939</td>\n",
       "      <td>0.718739</td>\n",
       "      <td>0.246893</td>\n",
       "    </tr>\n",
       "    <tr>\n",
       "      <td>2000</td>\n",
       "      <td>0.812400</td>\n",
       "      <td>0.770998</td>\n",
       "      <td>0.770998</td>\n",
       "      <td>0.878065</td>\n",
       "      <td>0.724460</td>\n",
       "      <td>0.214811</td>\n",
       "    </tr>\n",
       "    <tr>\n",
       "      <td>3000</td>\n",
       "      <td>0.797300</td>\n",
       "      <td>0.756512</td>\n",
       "      <td>0.756512</td>\n",
       "      <td>0.869777</td>\n",
       "      <td>0.725071</td>\n",
       "      <td>0.229563</td>\n",
       "    </tr>\n",
       "    <tr>\n",
       "      <td>4000</td>\n",
       "      <td>0.826900</td>\n",
       "      <td>0.760098</td>\n",
       "      <td>0.760098</td>\n",
       "      <td>0.871836</td>\n",
       "      <td>0.720801</td>\n",
       "      <td>0.225911</td>\n",
       "    </tr>\n",
       "    <tr>\n",
       "      <td>5000</td>\n",
       "      <td>0.768400</td>\n",
       "      <td>0.735315</td>\n",
       "      <td>0.735315</td>\n",
       "      <td>0.857505</td>\n",
       "      <td>0.713381</td>\n",
       "      <td>0.251150</td>\n",
       "    </tr>\n",
       "    <tr>\n",
       "      <td>6000</td>\n",
       "      <td>0.780000</td>\n",
       "      <td>0.732545</td>\n",
       "      <td>0.732545</td>\n",
       "      <td>0.855888</td>\n",
       "      <td>0.708555</td>\n",
       "      <td>0.253971</td>\n",
       "    </tr>\n",
       "    <tr>\n",
       "      <td>7000</td>\n",
       "      <td>0.765900</td>\n",
       "      <td>0.722631</td>\n",
       "      <td>0.722631</td>\n",
       "      <td>0.850077</td>\n",
       "      <td>0.703600</td>\n",
       "      <td>0.264068</td>\n",
       "    </tr>\n",
       "    <tr>\n",
       "      <td>8000</td>\n",
       "      <td>0.746200</td>\n",
       "      <td>0.715406</td>\n",
       "      <td>0.715406</td>\n",
       "      <td>0.845817</td>\n",
       "      <td>0.706220</td>\n",
       "      <td>0.271425</td>\n",
       "    </tr>\n",
       "    <tr>\n",
       "      <td>9000</td>\n",
       "      <td>0.776800</td>\n",
       "      <td>0.707159</td>\n",
       "      <td>0.707159</td>\n",
       "      <td>0.840927</td>\n",
       "      <td>0.701801</td>\n",
       "      <td>0.279825</td>\n",
       "    </tr>\n",
       "    <tr>\n",
       "      <td>10000</td>\n",
       "      <td>0.743600</td>\n",
       "      <td>0.705525</td>\n",
       "      <td>0.705525</td>\n",
       "      <td>0.839955</td>\n",
       "      <td>0.701177</td>\n",
       "      <td>0.281489</td>\n",
       "    </tr>\n",
       "  </tbody>\n",
       "</table><p>"
      ],
      "text/plain": [
       "<IPython.core.display.HTML object>"
      ]
     },
     "metadata": {},
     "output_type": "display_data"
    },
    {
     "name": "stderr",
     "output_type": "stream",
     "text": [
      "/home/karl-saliba/anaconda3/envs/nuclear/lib/python3.10/site-packages/torch/utils/data/dataloader.py:668: UserWarning: 'pin_memory' argument is set as true but no accelerator is found, then device pinned memory won't be used.\n",
      "  warnings.warn(warn_msg)\n",
      "/home/karl-saliba/anaconda3/envs/nuclear/lib/python3.10/site-packages/torch/utils/data/dataloader.py:668: UserWarning: 'pin_memory' argument is set as true but no accelerator is found, then device pinned memory won't be used.\n",
      "  warnings.warn(warn_msg)\n",
      "/home/karl-saliba/anaconda3/envs/nuclear/lib/python3.10/site-packages/torch/utils/data/dataloader.py:668: UserWarning: 'pin_memory' argument is set as true but no accelerator is found, then device pinned memory won't be used.\n",
      "  warnings.warn(warn_msg)\n",
      "/home/karl-saliba/anaconda3/envs/nuclear/lib/python3.10/site-packages/torch/utils/data/dataloader.py:668: UserWarning: 'pin_memory' argument is set as true but no accelerator is found, then device pinned memory won't be used.\n",
      "  warnings.warn(warn_msg)\n",
      "/home/karl-saliba/anaconda3/envs/nuclear/lib/python3.10/site-packages/torch/utils/data/dataloader.py:668: UserWarning: 'pin_memory' argument is set as true but no accelerator is found, then device pinned memory won't be used.\n",
      "  warnings.warn(warn_msg)\n",
      "/home/karl-saliba/anaconda3/envs/nuclear/lib/python3.10/site-packages/torch/utils/data/dataloader.py:668: UserWarning: 'pin_memory' argument is set as true but no accelerator is found, then device pinned memory won't be used.\n",
      "  warnings.warn(warn_msg)\n",
      "/home/karl-saliba/anaconda3/envs/nuclear/lib/python3.10/site-packages/torch/utils/data/dataloader.py:668: UserWarning: 'pin_memory' argument is set as true but no accelerator is found, then device pinned memory won't be used.\n",
      "  warnings.warn(warn_msg)\n",
      "/home/karl-saliba/anaconda3/envs/nuclear/lib/python3.10/site-packages/torch/utils/data/dataloader.py:668: UserWarning: 'pin_memory' argument is set as true but no accelerator is found, then device pinned memory won't be used.\n",
      "  warnings.warn(warn_msg)\n",
      "/home/karl-saliba/anaconda3/envs/nuclear/lib/python3.10/site-packages/torch/utils/data/dataloader.py:668: UserWarning: 'pin_memory' argument is set as true but no accelerator is found, then device pinned memory won't be used.\n",
      "  warnings.warn(warn_msg)\n",
      "/home/karl-saliba/anaconda3/envs/nuclear/lib/python3.10/site-packages/torch/utils/data/dataloader.py:668: UserWarning: 'pin_memory' argument is set as true but no accelerator is found, then device pinned memory won't be used.\n",
      "  warnings.warn(warn_msg)\n",
      "/home/karl-saliba/anaconda3/envs/nuclear/lib/python3.10/site-packages/torch/utils/data/dataloader.py:668: UserWarning: 'pin_memory' argument is set as true but no accelerator is found, then device pinned memory won't be used.\n",
      "  warnings.warn(warn_msg)\n"
     ]
    },
    {
     "data": {
      "text/plain": [
       "TrainOutput(global_step=10000, training_loss=0.7932485870361328, metrics={'train_runtime': 209.8047, 'train_samples_per_second': 190.653, 'train_steps_per_second': 47.663, 'total_flos': 0.0, 'train_loss': 0.7932485870361328, 'epoch': 2.185792349726776})"
      ]
     },
     "execution_count": 11,
     "metadata": {},
     "output_type": "execute_result"
    }
   ],
   "source": [
    "trainer.train()"
   ]
  },
  {
   "cell_type": "code",
   "execution_count": 28,
   "id": "a225e43f-c217-4bd3-a78e-930bff9e6c18",
   "metadata": {},
   "outputs": [
    {
     "data": {
      "text/plain": [
       "torch.Size([18297, 1])"
      ]
     },
     "execution_count": 28,
     "metadata": {},
     "output_type": "execute_result"
    }
   ],
   "source": [
    "torch.tensor(train_ds[\"input\"]).reshape(-1,1).shape"
   ]
  },
  {
   "cell_type": "code",
   "execution_count": 29,
   "id": "3cdd9e2a-f705-45f9-9080-02bebfa620fb",
   "metadata": {},
   "outputs": [],
   "source": [
    "out=trainer.model(torch.tensor(train_ds[\"input\"]).reshape(-1,1))"
   ]
  },
  {
   "cell_type": "code",
   "execution_count": 36,
   "id": "1ded4007-0a25-4db5-947b-bdbedde2ab98",
   "metadata": {},
   "outputs": [],
   "source": [
    "out_1=out[\"logits\"].reshape(-1).detach().numpy()"
   ]
  },
  {
   "cell_type": "code",
   "execution_count": 38,
   "id": "658adf4c-c0a1-4b7e-9426-cb5b2efff308",
   "metadata": {},
   "outputs": [
    {
     "data": {
      "text/plain": [
       "array([-0.89533457,  2.70737947, -0.19801255, ..., -0.34334403,\n",
       "       -0.21795161,  0.1133052 ])"
      ]
     },
     "execution_count": 38,
     "metadata": {},
     "output_type": "execute_result"
    }
   ],
   "source": [
    "np.array(train_ds[\"input\"])"
   ]
  },
  {
   "cell_type": "code",
   "execution_count": 40,
   "id": "4040bd4a-c9b8-4045-b3e9-fefd8d8f7f7c",
   "metadata": {},
   "outputs": [
    {
     "data": {
      "image/png": "[encoded data removed]",
      "text/plain": [
       "<Figure size 1000x600 with 1 Axes>"
      ]
     },
     "metadata": {},
     "output_type": "display_data"
    }
   ],
   "source": [
    "import matplotlib.pyplot as plt\n",
    "import numpy as np\n",
    "\n",
    "# Assuminx\n",
    "x=np.array(train_ds[\"input\"])\n",
    "y = out_1# All rows, column 1\n",
    "\n",
    "# Log-log plot\n",
    "plt.figure(figsize=(10, 6))\n",
    "plt.plot(x, y, 'o', alpha=0.7, markersize=1)\n",
    "plt.xlabel('X (log scale)')\n",
    "plt.ylabel('Y (log scale)')\n",
    "plt.title('Log-Log Plot')\n",
    "plt.grid(True, alpha=0.3)\n",
    "plt.show()"
   ]
  },
  {
   "cell_type": "code",
   "execution_count": null,
   "id": "ca8d226d-8039-444a-a1ee-d8d21f199aec",
   "metadata": {},
   "outputs": [],
   "source": []
  }
 ],
 "metadata": {
  "kernelspec": {
   "display_name": "Python 3 (ipykernel)",
   "language": "python",
   "name": "python3"
  },
  "language_info": {
   "codemirror_mode": {
    "name": "ipython",
    "version": 3
   },
   "file_extension": ".py",
   "mimetype": "text/x-python",
   "name": "python",
   "nbconvert_exporter": "python",
   "pygments_lexer": "ipython3",
   "version": "3.10.18"
  }
 },
 "nbformat": 4,
 "nbformat_minor": 5
}
