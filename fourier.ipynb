{
 "cells": [
  {
   "cell_type": "code",
   "execution_count": 91,
   "id": "1f88c694-7ec0-4d8c-9a22-f2d449ead831",
   "metadata": {},
   "outputs": [],
   "source": [
    "from transformers import Trainer, TrainingArguments,EarlyStoppingCallback\n",
    "import torch\n",
    "from torch import nn\n",
    "from torch.utils.data import Dataset\n",
    "import numpy as np\n",
    "import math\n"
   ]
  },
  {
   "cell_type": "code",
   "execution_count": 92,
   "id": "cb0840f7-2dcd-4598-ad84-6ad57952c8fc",
   "metadata": {},
   "outputs": [
    {
     "name": "stdout",
     "output_type": "stream",
     "text": [
      "PyTorch: 2.8.0+cu128\n",
      "CUDA available? True\n",
      "Device count: 1\n",
      "Current device: 0\n",
      "Device name: NVIDIA RTX A5000\n"
     ]
    }
   ],
   "source": [
    "import torch, torchvision, torchaudio\n",
    "print(\"PyTorch:\", torch.__version__)\n",
    "print(\"CUDA available?\", torch.cuda.is_available())\n",
    "print(\"Device count:\", torch.cuda.device_count())\n",
    "print(\"Current device:\", torch.cuda.current_device() if torch.cuda.is_available() else None)\n",
    "print(\"Device name:\", torch.cuda.get_device_name(0) if torch.cuda.is_available() else None)\n"
   ]
  },
  {
   "cell_type": "code",
   "execution_count": 93,
   "id": "7914b02c-48ea-4b20-b3eb-7aeb2b9e954b",
   "metadata": {},
   "outputs": [
    {
     "name": "stdout",
     "output_type": "stream",
     "text": [
      "(20330, 2)\n"
     ]
    }
   ],
   "source": [
    "import numpy as np\n",
    "\n",
    "data = np.loadtxt(\"ENDF_B-VIII.1_AU-197(N,G)AU-198.yaml\")  # (x, y)\n",
    "print(data.shape)"
   ]
  },
  {
   "cell_type": "code",
   "execution_count": 94,
   "id": "3d03c0d8-6b8a-4083-afe1-4e8a6c2196d9",
   "metadata": {},
   "outputs": [],
   "source": [
    "x_raw = data[:, 0].astype(np.float32)\n",
    "y_raw = data[:, 1].astype(np.float32)\n",
    "x_log = np.log10(x_raw)\n",
    "y_log = np.log10(y_raw)"
   ]
  },
  {
   "cell_type": "code",
   "execution_count": 95,
   "id": "94ba2875-64d8-4e28-853b-e533982cab6c",
   "metadata": {
    "editable": true,
    "slideshow": {
     "slide_type": ""
    },
    "tags": []
   },
   "outputs": [],
   "source": [
    "from datasets import Dataset\n",
    "\n",
    "full_ds = Dataset.from_dict({\"x\": x_log.tolist(), \"y\": y_log.tolist()})\n",
    "ds = full_ds.train_test_split(test_size=0.1, seed=42)\n",
    "train_ds, eval_ds = ds[\"train\"], ds[\"test\"]"
   ]
  },
  {
   "cell_type": "code",
   "execution_count": 96,
   "id": "864b79e7-9d41-4956-90e8-95aec57ba918",
   "metadata": {
    "scrolled": true
   },
   "outputs": [
    {
     "data": {
      "application/vnd.jupyter.widget-view+json": {
       "model_id": "c71a7f9bcb1c41f2afd31b3328815089",
       "version_major": 2,
       "version_minor": 0
      },
      "text/plain": [
       "Map:   0%|          | 0/18297 [00:00<?, ? examples/s]"
      ]
     },
     "metadata": {},
     "output_type": "display_data"
    },
    {
     "data": {
      "application/vnd.jupyter.widget-view+json": {
       "model_id": "5a160bc46350431590238ad87a347998",
       "version_major": 2,
       "version_minor": 0
      },
      "text/plain": [
       "Map:   0%|          | 0/2033 [00:00<?, ? examples/s]"
      ]
     },
     "metadata": {},
     "output_type": "display_data"
    }
   ],
   "source": [
    "# ---------- 4) Standardize using TRAIN stats ----------\n",
    "x_mean, x_std = float(np.mean(train_ds[\"x\"])), float(np.std(train_ds[\"x\"]))\n",
    "y_mean, y_std = float(np.mean(train_ds[\"y\"])), float(np.std(train_ds[\"y\"]))\n",
    "\n",
    "\n",
    "def standardize(example):\n",
    "    example[\"input\"] = (example[\"x\"] - x_mean) / x_std\n",
    "    example[\"labels\"] = (example[\"y\"] - y_mean) / y_std\n",
    "    del example[\"x\"]\n",
    "    del example[\"y\"]\n",
    "    return example\n",
    "\n",
    "\n",
    "train_ds = train_ds.map(standardize)\n",
    "eval_ds  = eval_ds.map(standardize)\n"
   ]
  },
  {
   "cell_type": "code",
   "execution_count": 97,
   "id": "0e35b3ea-8303-4825-92ab-77177a598979",
   "metadata": {},
   "outputs": [
    {
     "name": "stdout",
     "output_type": "stream",
     "text": [
      "Using cuda device\n"
     ]
    }
   ],
   "source": [
    "device = torch.accelerator.current_accelerator().type if torch.accelerator.is_available() else \"cpu\"\n",
    "print(f\"Using {device} device\")"
   ]
  },
  {
   "cell_type": "code",
   "execution_count": 98,
   "id": "11209712-f687-4f16-9848-cd78f03dc318",
   "metadata": {
    "editable": true,
    "slideshow": {
     "slide_type": ""
    },
    "tags": []
   },
   "outputs": [],
   "source": [
    "class MLP(nn.Module):\n",
    "    def __init__(self, dim=512, activation=nn.Tanh(), p_drop=0.05):\n",
    "        super().__init__()\n",
    "        \n",
    "        self.block = nn.Sequential(\n",
    "            nn.Linear(dim, dim),\n",
    "            activation,\n",
    "            nn.Dropout(p_drop),\n",
    "            nn.Linear(dim, dim),\n",
    "            nn.Dropout(p_drop)\n",
    "        )\n",
    "        self.activation = activation\n",
    "        \n",
    "    def forward(self, x):\n",
    "        return self.activation(x + self.block(x))\n"
   ]
  },
  {
   "cell_type": "code",
   "execution_count": 99,
   "id": "3a5db4d0-2e3f-40b9-ada9-d2e876a58d1a",
   "metadata": {},
   "outputs": [],
   "source": [
    "class FourierMLP(nn.Module):\n",
    "    \"\"\"\n",
    "    FIXED: Proper shape handling for Fourier features\n",
    "    \"\"\"\n",
    "    def __init__(self, dim=512, activation=nn.Tanh(), p_drop=0.05, \n",
    "                 num_frequencies=None, fourier_scale=10.0):\n",
    "        super().__init__()\n",
    "        \n",
    "        if num_frequencies is None:\n",
    "            num_frequencies = dim // 2\n",
    "        \n",
    "        self.dim = dim\n",
    "        self.num_frequencies = num_frequencies\n",
    "        \n",
    "        # Random Fourier feature matrix: (dim, num_frequencies)\n",
    "        self.register_buffer(\n",
    "            'B', \n",
    "            torch.randn(dim, num_frequencies) * fourier_scale\n",
    "        )\n",
    "        \n",
    "        # Process the Fourier features back to dim\n",
    "        self.block = nn.Sequential(\n",
    "            nn.Linear(num_frequencies * 2, dim),  # sin + cos features\n",
    "            activation,\n",
    "            nn.Dropout(p_drop),\n",
    "            nn.Linear(dim, dim),\n",
    "            nn.Dropout(p_drop)\n",
    "        )\n",
    "        self.activation = activation\n",
    "    \n",
    "    def forward(self, x):\n",
    "        # x shape: (batch, dim)\n",
    "        # Project to frequency space\n",
    "        x_proj = 2 * np.pi * (x @ self.B)  # (batch, num_frequencies)\n",
    "        \n",
    "        # Create sin/cos features\n",
    "        fourier_features = torch.cat([\n",
    "            torch.sin(x_proj), \n",
    "            torch.cos(x_proj)\n",
    "        ], dim=-1)  # (batch, num_frequencies * 2)\n",
    "        \n",
    "        # Process and add residual\n",
    "        out = self.block(fourier_features)  # (batch, dim)\n",
    "        return self.activation(x + out)"
   ]
  },
  {
   "cell_type": "code",
   "execution_count": 100,
   "id": "8a37832f-d21e-48d9-996b-f3606cb5d01f",
   "metadata": {},
   "outputs": [],
   "source": [
    "class kamma_2(nn.Module):\n",
    "    def __init__(\n",
    "        self, \n",
    "        in_dim=1, \n",
    "        dim=128, \n",
    "        depth=3,\n",
    "        num_fourier_blocks=1,\n",
    "        fourier_scale=10.0,\n",
    "        p_drop=0.05,\n",
    "        activation=nn.Tanh()\n",
    "    ):\n",
    "        super().__init__()\n",
    "        \n",
    "        self.inp = nn.Linear(in_dim, dim)\n",
    "        self.blocks = nn.ModuleList()\n",
    "        \n",
    "        # Add Fourier blocks first\n",
    "        for _ in range(num_fourier_blocks):\n",
    "            self.blocks.append(\n",
    "                FourierMLP(dim, activation, p_drop, fourier_scale=fourier_scale)\n",
    "            )\n",
    "        \n",
    "        # Add standard MLP blocks\n",
    "        for _ in range(depth - num_fourier_blocks):\n",
    "            self.blocks.append(\n",
    "                MLP(dim, activation, p_drop)\n",
    "            )\n",
    "        \n",
    "        self.out = nn.Linear(dim, 1)\n",
    "        self.loss_fn = nn.MSELoss()\n",
    "        \n",
    "        # Better initialization\n",
    "        self._init_weights()\n",
    "    \n",
    "    def _init_weights(self):\n",
    "        \"\"\"Better weight initialization for deep networks\"\"\"\n",
    "        for m in self.modules():\n",
    "            if isinstance(m, nn.Linear):\n",
    "                nn.init.xavier_normal_(m.weight)\n",
    "                if m.bias is not None:\n",
    "                    nn.init.zeros_(m.bias)\n",
    "    \n",
    "    def forward(self, input: torch.Tensor, labels: torch.Tensor = None):\n",
    "        h = self.inp(input)\n",
    "        for blk in self.blocks:\n",
    "            h = blk(h)\n",
    "        logits = self.out(h)\n",
    "        \n",
    "        if labels is not None:\n",
    "            loss = self.loss_fn(logits, labels)\n",
    "            return {\"loss\": loss, \"logits\": logits}\n",
    "        return {\"logits\": logits}\n"
   ]
  },
  {
   "cell_type": "code",
   "execution_count": 101,
   "id": "b7a88c21-dccd-435c-a2a3-ddaafe6c685d",
   "metadata": {},
   "outputs": [
    {
     "name": "stdout",
     "output_type": "stream",
     "text": [
      "kamma_2(\n",
      "  (inp): Linear(in_features=1, out_features=512, bias=True)\n",
      "  (blocks): ModuleList(\n",
      "    (0-2): 3 x FourierMLP(\n",
      "      (block): Sequential(\n",
      "        (0): Linear(in_features=512, out_features=512, bias=True)\n",
      "        (1): Tanh()\n",
      "        (2): Dropout(p=0.03, inplace=False)\n",
      "        (3): Linear(in_features=512, out_features=512, bias=True)\n",
      "        (4): Dropout(p=0.03, inplace=False)\n",
      "      )\n",
      "      (activation): Tanh()\n",
      "    )\n",
      "    (3-7): 5 x MLP(\n",
      "      (block): Sequential(\n",
      "        (0): Linear(in_features=512, out_features=512, bias=True)\n",
      "        (1): Tanh()\n",
      "        (2): Dropout(p=0.03, inplace=False)\n",
      "        (3): Linear(in_features=512, out_features=512, bias=True)\n",
      "        (4): Dropout(p=0.03, inplace=False)\n",
      "      )\n",
      "      (activation): Tanh()\n",
      "    )\n",
      "  )\n",
      "  (out): Linear(in_features=512, out_features=1, bias=True)\n",
      "  (loss_fn): MSELoss()\n",
      ")\n"
     ]
    }
   ],
   "source": [
    "model = kamma_2(\n",
    "    in_dim=1,\n",
    "    dim=512,\n",
    "    depth=8,              # REDUCED from 15\n",
    "    num_fourier_blocks=3, # REDUCED from 7\n",
    "    fourier_scale=25.0,   # INCREASED from 10\n",
    "    p_drop=0.03,          # REDUCED from 0.05\n",
    "    activation=nn.Tanh()\n",
    ").to(\n",
    "    \"cuda\" if torch.cuda.is_available() else \"cpu\"\n",
    ")\n",
    "print(model)"
   ]
  },
  {
   "cell_type": "code",
   "execution_count": 102,
   "id": "37c80392-3469-46cd-9daa-abd8ae142308",
   "metadata": {
    "scrolled": true
   },
   "outputs": [
    {
     "name": "stdout",
     "output_type": "stream",
     "text": [
      "inp.weight: cuda:0\n"
     ]
    }
   ],
   "source": [
    "# Check specific parameters\n",
    "for name, param in model.named_parameters():\n",
    "    print(f\"{name}: {param.device}\")\n",
    "    break  # Just check the first one, usually all are on same device"
   ]
  },
  {
   "cell_type": "code",
   "execution_count": 103,
   "id": "b16b0156-2ddf-4dad-889a-beb20e3f8764",
   "metadata": {},
   "outputs": [
    {
     "data": {
      "text/plain": [
       "4204033"
      ]
     },
     "execution_count": 103,
     "metadata": {},
     "output_type": "execute_result"
    }
   ],
   "source": [
    "def num_of_param(model):\n",
    "    return sum(p.numel() for p in model.parameters())\n",
    "num_of_param(model)"
   ]
  },
  {
   "cell_type": "code",
   "execution_count": 104,
   "id": "13058a5d-bfd6-41d5-8f6e-0872e351e789",
   "metadata": {
    "editable": true,
    "slideshow": {
     "slide_type": ""
    },
    "tags": []
   },
   "outputs": [],
   "source": [
    "def compute_metrics(eval_pred):\n",
    "    preds = eval_pred.predictions\n",
    "    if isinstance(preds, tuple):\n",
    "        preds = preds[0]\n",
    "    preds = np.array(preds).reshape(-1)\n",
    "    labels = eval_pred.label_ids.reshape(-1)\n",
    "\n",
    "    mse  = float(np.mean((preds - labels) ** 2))\n",
    "    rmse = float(math.sqrt(mse))\n",
    "    mae  = float(np.mean(np.abs(preds - labels)))\n",
    "    ss_res = float(np.sum((labels - preds) ** 2))\n",
    "    \n",
    "    ss_tot = float(np.sum((labels - np.mean(labels)) ** 2))\n",
    "    r2 = 1.0 - ss_res / ss_tot if ss_tot > 0 else 0.0\n",
    "    return {\"mse\": mse, \"rmse\": rmse, \"mae\": mae, \"r2\": r2}\n",
    "\n",
    "\n",
    "def collate_scalar_to_column(batch):\n",
    "    inputs = torch.tensor([ex[\"input\"] for ex in batch], dtype=torch.float32).unsqueeze(-1)\n",
    "    labels = torch.tensor([ex[\"labels\"] for ex in batch], dtype=torch.float32).unsqueeze(-1)\n",
    "    return {\"input\": inputs, \"labels\": labels}\n"
   ]
  },
  {
   "cell_type": "code",
   "execution_count": 108,
   "id": "dbbb96be-a069-41b3-9df9-252e732d2e76",
   "metadata": {
    "editable": true,
    "slideshow": {
     "slide_type": ""
    },
    "tags": []
   },
   "outputs": [],
   "source": [
    "training_args = TrainingArguments(\n",
    "            output_dir='./results',\n",
    "            learning_rate=1e-3,\n",
    "            per_device_train_batch_size=512,  \n",
    "            per_device_eval_batch_size=512,\n",
    "            max_steps=30000,  # Replace with your desired number of steps\n",
    "            weight_decay=0.01,\n",
    "            eval_strategy='steps', \n",
    "            eval_steps=2500,  #the save step should be a multiple of eval step, savestep=500 by default\n",
    "            lr_scheduler_type=\"cosine\",\n",
    "            warmup_ratio=0.1,\n",
    "            # metric_for_best_model=\"mse\",\n",
    "        )\n",
    "# ---------------- 7) Trainer ----------------\n",
    "trainer = Trainer(\n",
    "    model=model,\n",
    "    args=training_args,\n",
    "    train_dataset=train_ds,\n",
    "    eval_dataset=eval_ds,\n",
    "    compute_metrics=compute_metrics,\n",
    "    data_collator=collate_scalar_to_column,\n",
    ")"
   ]
  },
  {
   "cell_type": "code",
   "execution_count": 109,
   "id": "a6e55b93-0004-48c6-9b20-2472c14b4b89",
   "metadata": {},
   "outputs": [
    {
     "name": "stdout",
     "output_type": "stream",
     "text": [
      "Trainer device: cuda:0\n"
     ]
    }
   ],
   "source": [
    "print(f\"Trainer device: {trainer.args.device}\")"
   ]
  },
  {
   "cell_type": "code",
   "execution_count": null,
   "id": "5ac98046-8d10-40ef-b590-03b07461c593",
   "metadata": {
    "editable": true,
    "scrolled": true,
    "slideshow": {
     "slide_type": ""
    },
    "tags": []
   },
   "outputs": [
    {
     "data": {
      "text/html": [
       "\n",
       "    <div>\n",
       "      \n",
       "      <progress value='15681' max='30000' style='width:300px; height:20px; vertical-align: middle;'></progress>\n",
       "      [15681/30000 06:56 < 06:20, 37.60 it/s, Epoch 435.56/834]\n",
       "    </div>\n",
       "    <table border=\"1\" class=\"dataframe\">\n",
       "  <thead>\n",
       " <tr style=\"text-align: left;\">\n",
       "      <th>Step</th>\n",
       "      <th>Training Loss</th>\n",
       "      <th>Validation Loss</th>\n",
       "      <th>Mse</th>\n",
       "      <th>Rmse</th>\n",
       "      <th>Mae</th>\n",
       "      <th>R2</th>\n",
       "    </tr>\n",
       "  </thead>\n",
       "  <tbody>\n",
       "    <tr>\n",
       "      <td>2500</td>\n",
       "      <td>1.182200</td>\n",
       "      <td>1.092094</td>\n",
       "      <td>1.092094</td>\n",
       "      <td>1.045033</td>\n",
       "      <td>0.823996</td>\n",
       "      <td>-0.112196</td>\n",
       "    </tr>\n",
       "    <tr>\n",
       "      <td>5000</td>\n",
       "      <td>1.081700</td>\n",
       "      <td>0.993672</td>\n",
       "      <td>0.993672</td>\n",
       "      <td>0.996831</td>\n",
       "      <td>0.791861</td>\n",
       "      <td>-0.011962</td>\n",
       "    </tr>\n",
       "    <tr>\n",
       "      <td>7500</td>\n",
       "      <td>1.054400</td>\n",
       "      <td>0.998444</td>\n",
       "      <td>0.998444</td>\n",
       "      <td>0.999222</td>\n",
       "      <td>0.790555</td>\n",
       "      <td>-0.016823</td>\n",
       "    </tr>\n",
       "    <tr>\n",
       "      <td>10000</td>\n",
       "      <td>1.037900</td>\n",
       "      <td>1.002492</td>\n",
       "      <td>1.002492</td>\n",
       "      <td>1.001245</td>\n",
       "      <td>0.799004</td>\n",
       "      <td>-0.020945</td>\n",
       "    </tr>\n",
       "    <tr>\n",
       "      <td>12500</td>\n",
       "      <td>1.030500</td>\n",
       "      <td>0.970952</td>\n",
       "      <td>0.970952</td>\n",
       "      <td>0.985369</td>\n",
       "      <td>0.782545</td>\n",
       "      <td>0.011176</td>\n",
       "    </tr>\n",
       "    <tr>\n",
       "      <td>15000</td>\n",
       "      <td>1.019500</td>\n",
       "      <td>0.980741</td>\n",
       "      <td>0.980741</td>\n",
       "      <td>0.990324</td>\n",
       "      <td>0.785089</td>\n",
       "      <td>0.001206</td>\n",
       "    </tr>\n",
       "  </tbody>\n",
       "</table><p>"
      ],
      "text/plain": [
       "<IPython.core.display.HTML object>"
      ]
     },
     "metadata": {},
     "output_type": "display_data"
    }
   ],
   "source": [
    "trainer.train()"
   ]
  },
  {
   "cell_type": "code",
   "execution_count": null,
   "id": "c706bcdf-e364-4e3e-a229-39189fefdd51",
   "metadata": {
    "editable": true,
    "slideshow": {
     "slide_type": ""
    },
    "tags": []
   },
   "outputs": [],
   "source": [
    "train_ds"
   ]
  },
  {
   "cell_type": "code",
   "execution_count": null,
   "id": "668526a8-3d3a-4609-9d6a-604a17ac7498",
   "metadata": {},
   "outputs": [],
   "source": [
    "pred_train = trainer.predict(train_ds)"
   ]
  },
  {
   "cell_type": "code",
   "execution_count": null,
   "id": "c699f0a6-d90f-4afa-a48a-3d39430c502a",
   "metadata": {},
   "outputs": [],
   "source": [
    "out_pred=pred_train.predictions"
   ]
  },
  {
   "cell_type": "code",
   "execution_count": null,
   "id": "4040bd4a-c9b8-4045-b3e9-fefd8d8f7f7c",
   "metadata": {},
   "outputs": [],
   "source": [
    "import matplotlib.pyplot as plt\n",
    "import numpy as np\n",
    "\n",
    "# Assuminx\n",
    "x=np.array(train_ds[\"input\"])\n",
    "y = out_pred# All rows, column 1\n",
    "\n",
    "# Log-log plot\n",
    "plt.figure(figsize=(10, 6))\n",
    "plt.plot(x, y, 'o', alpha=0.7, markersize=1)\n",
    "plt.xlabel('X (log scale)')\n",
    "plt.ylabel('Y (log scale)')\n",
    "plt.title('Log-Log Plot')\n",
    "plt.grid(True, alpha=0.3)\n",
    "plt.show()"
   ]
  },
  {
   "cell_type": "code",
   "execution_count": null,
   "id": "ca8d226d-8039-444a-a1ee-d8d21f199aec",
   "metadata": {},
   "outputs": [],
   "source": []
  },
  {
   "cell_type": "code",
   "execution_count": null,
   "id": "967540b0-3267-4b25-8a1c-fc53b2f501ea",
   "metadata": {},
   "outputs": [],
   "source": []
  }
 ],
 "metadata": {
  "kernelspec": {
   "display_name": "Python 3 (ipykernel)",
   "language": "python",
   "name": "python3"
  },
  "language_info": {
   "codemirror_mode": {
    "name": "ipython",
    "version": 3
   },
   "file_extension": ".py",
   "mimetype": "text/x-python",
   "name": "python",
   "nbconvert_exporter": "python",
   "pygments_lexer": "ipython3",
   "version": "3.12.3"
  }
 },
 "nbformat": 4,
 "nbformat_minor": 5
}
